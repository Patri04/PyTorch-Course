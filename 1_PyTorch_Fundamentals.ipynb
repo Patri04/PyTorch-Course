{
  "nbformat": 4,
  "nbformat_minor": 0,
  "metadata": {
    "colab": {
      "provenance": [],
      "collapsed_sections": [
        "zeNgpmje7vfO"
      ],
      "authorship_tag": "ABX9TyNfL9MDafdF5bJAVS5J4fm4",
      "include_colab_link": true
    },
    "kernelspec": {
      "name": "python3",
      "display_name": "Python 3"
    },
    "language_info": {
      "name": "python"
    }
  },
  "cells": [
    {
      "cell_type": "markdown",
      "metadata": {
        "id": "view-in-github",
        "colab_type": "text"
      },
      "source": [
        "<a href=\"https://colab.research.google.com/github/Patri04/PyTorch-Course/blob/main/1_PyTorch_Fundamentals.ipynb\" target=\"_parent\"><img src=\"https://colab.research.google.com/assets/colab-badge.svg\" alt=\"Open In Colab\"/></a>"
      ]
    },
    {
      "cell_type": "markdown",
      "metadata": {
        "id": "zeNgpmje7vfO"
      },
      "source": [
        "# **PyTorch Fundamentals**\n"
      ]
    },
    {
      "cell_type": "code",
      "execution_count": null,
      "metadata": {
        "colab": {
          "base_uri": "https://localhost:8080/"
        },
        "id": "D2N-dlQu9Ak6",
        "outputId": "bd4da664-f46d-4508-d380-0663c8da8971"
      },
      "outputs": [
        {
          "output_type": "stream",
          "name": "stdout",
          "text": [
            "2.5.1+cu124\n"
          ]
        }
      ],
      "source": [
        "import torch\n",
        "import pandas as pd\n",
        "import numpy as np\n",
        "import matplotlib.pyplot as plt\n",
        "print(torch.__version__)"
      ]
    },
    {
      "cell_type": "markdown",
      "metadata": {
        "id": "tqMMd2Dr8-oI"
      },
      "source": [
        "**Introduction to tensors**\n",
        "\n"
      ]
    },
    {
      "cell_type": "code",
      "execution_count": null,
      "metadata": {
        "id": "w7jZ_Twe9SGf"
      },
      "outputs": [],
      "source": [
        "#CREATING TENSORS MANUALLY\n",
        "\n",
        "#scalar -> tensor\n",
        "scalar = torch.tensor(7)\n",
        "\n",
        "#vector -> tensor\n",
        "vector = torch.tensor([7,7,7])\n",
        "\n",
        "#matrix -> tensor\n",
        "matrix = torch.tensor([[7,8],[9,10]])\n",
        "\n",
        "#3D volume -> tensor\n",
        "volume = torch.tensor([[[1,4,6],[16,25,26]],[[1,2,3],[4,5,6]]])"
      ]
    },
    {
      "cell_type": "code",
      "execution_count": null,
      "metadata": {
        "id": "beilsBnVCT0s"
      },
      "outputs": [],
      "source": [
        "#CREATING TENSORS EFFICIENTLY\n",
        "\n",
        "random_tensor = torch.rand(224,224,3)\n",
        "\n",
        "zeros = torch.zeros(3,3,3)\n",
        "\n",
        "ones = torch.ones(2,2,2)\n",
        "\n",
        "range = torch.arange(0,10,2)\n",
        "\n",
        "like_ones = torch.zeros_like(ones)"
      ]
    },
    {
      "cell_type": "markdown",
      "metadata": {
        "id": "-fVgUKCZD5ay"
      },
      "source": [
        "**Tensor datatypes**"
      ]
    },
    {
      "cell_type": "code",
      "execution_count": null,
      "metadata": {
        "id": "Vs4GQ37OD8SD"
      },
      "outputs": [],
      "source": [
        "#Type implementation\n",
        "tensor1 = torch.tensor([2,3,4], dtype = torch.float32, device = None, requires_grad = False)\n",
        "\n",
        "#Type change\n",
        "tensor2 = tensor1.type(torch.float16)"
      ]
    },
    {
      "cell_type": "markdown",
      "metadata": {
        "id": "AASYZ5THHNAF"
      },
      "source": [
        "**Tensor debugging**\n",
        "\n",
        "Common errors:\n",
        "- Tensors not right datatype\n",
        "- Tensors not right shape\n",
        "- Tensors not on the right device"
      ]
    },
    {
      "cell_type": "code",
      "execution_count": null,
      "metadata": {
        "colab": {
          "base_uri": "https://localhost:8080/"
        },
        "id": "HHNbJMLRHNnt",
        "outputId": "512f4f09-b8b9-48b9-fe69-5d90adc457df"
      },
      "outputs": [
        {
          "output_type": "execute_result",
          "data": {
            "text/plain": [
              "device(type='cpu')"
            ]
          },
          "metadata": {},
          "execution_count": 5
        }
      ],
      "source": [
        "test = torch.tensor([[1,2,3],[4,5,6]])\n",
        "\n",
        "test.dtype #values' type\n",
        "test.shape #tensor shape\n",
        "test.device #tensor running location"
      ]
    },
    {
      "cell_type": "markdown",
      "metadata": {
        "id": "poT6WKBeIZQ8"
      },
      "source": [
        "**Tensor manipulation 1**"
      ]
    },
    {
      "cell_type": "code",
      "execution_count": null,
      "metadata": {
        "colab": {
          "base_uri": "https://localhost:8080/"
        },
        "id": "nFnuus6VIdCF",
        "outputId": "1f550918-9c53-4a87-8e5f-a10e0a4d5bfb"
      },
      "outputs": [
        {
          "output_type": "execute_result",
          "data": {
            "text/plain": [
              "tensor(25)"
            ]
          },
          "metadata": {},
          "execution_count": 6
        }
      ],
      "source": [
        "tensor1 = torch.tensor([[2,3],[4,5],[6,7]])\n",
        "tensor2 = torch.ones(2,3)\n",
        "tensor3 = torch.rand(2,3)\n",
        "tensor2 = tensor2.type(torch.int64)\n",
        "x = torch.rand(3,3,3)\n",
        "\n",
        "#Basic operations\n",
        "tensor1 + 3\n",
        "tensor2 + tensor3\n",
        "tensor1 * 3\n",
        "tensor2 * tensor3\n",
        "tensor1 / 2\n",
        "\n",
        "#Tensor operations\n",
        "torch.mm(tensor1,tensor2)\n",
        "\n",
        "#Tensor aggregation\n",
        "torch.max(x)\n",
        "torch.min(x)\n",
        "torch.mean(x)\n",
        "torch.sum(x)\n",
        "torch.argmin(x)\n",
        "torch.argmax(x)"
      ]
    },
    {
      "cell_type": "markdown",
      "metadata": {
        "id": "PnTFdKy0Ot7R"
      },
      "source": [
        "**Tensor manipulation 2**\n",
        "- Reshaping: reshape a tensor to a defined shape\n",
        "- Stacking: combine multiple tensors on a chosen dimension axis\n",
        "- Squeeze: remove an extra dimension\n",
        "- Unsqueeze: add an extra dimension\n",
        "\n",
        "\n",
        "- Permute: view of a tensor with permuted dimensions\n",
        "- View: view of a tensor on a particular shape"
      ]
    },
    {
      "cell_type": "code",
      "execution_count": null,
      "metadata": {
        "id": "CMGzesPvO17Q"
      },
      "outputs": [],
      "source": [
        "x = torch.arange(1,10)\n",
        "y = torch.arange(9,0,-1)\n",
        "\n",
        "#reshaping\n",
        "x_reshaped = x.reshape(3,3)\n",
        "\n",
        "#view\n",
        "x.view(3,3)\n",
        "\n",
        "#stacking\n",
        "stack = torch.stack([x,y], dim = 0)\n",
        "\n",
        "#unsqueeze\n",
        "x =torch.unsqueeze(x, dim = 0)\n",
        "\n",
        "#squeeze\n",
        "x = torch.squeeze(x, dim = 0)\n",
        "\n",
        "#permute\n",
        "x_reshaped = torch.permute(x_reshaped, dims = (0,1))"
      ]
    },
    {
      "cell_type": "markdown",
      "metadata": {
        "id": "zXl85O6AU8yp"
      },
      "source": [
        "**Indexing**"
      ]
    },
    {
      "cell_type": "code",
      "execution_count": null,
      "metadata": {
        "colab": {
          "base_uri": "https://localhost:8080/"
        },
        "id": "JjIPV04LVG71",
        "outputId": "c0606481-b37e-4e3e-dfd2-da2b3fbf884a"
      },
      "outputs": [
        {
          "output_type": "execute_result",
          "data": {
            "text/plain": [
              "tensor(4, dtype=torch.int32)"
            ]
          },
          "metadata": {},
          "execution_count": 8
        }
      ],
      "source": [
        "x = torch.rand(3,3,6)*10\n",
        "x = x.type(torch.int)\n",
        "x                #volume\n",
        "x[0]             #matrix\n",
        "x[0, 0]          #vector\n",
        "x[0, 0, 0]       #value"
      ]
    },
    {
      "cell_type": "markdown",
      "metadata": {
        "id": "4G3CM-GrXv0C"
      },
      "source": [
        "**Reproducibility**"
      ]
    },
    {
      "cell_type": "code",
      "execution_count": null,
      "metadata": {
        "id": "a0jihxG8Xz3J"
      },
      "outputs": [],
      "source": [
        "torch.manual_seed(1)\n",
        "x = torch.rand(3,3)\n",
        "y = torch.rand(3,3)"
      ]
    },
    {
      "cell_type": "markdown",
      "metadata": {
        "id": "EQ94km4Ubdos"
      },
      "source": [
        "**Moving a tensor to a device**"
      ]
    },
    {
      "cell_type": "code",
      "execution_count": null,
      "metadata": {
        "id": "UkGaTyoWbhzg"
      },
      "outputs": [],
      "source": [
        "device = \"cuda\" if torch.cuda.is_available() else \"cpu\"\n",
        "x = torch.tensor([1,2,3])\n",
        "x = x.to(device)"
      ]
    }
  ]
}